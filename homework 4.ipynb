{
 "cells": [
  {
   "cell_type": "code",
   "execution_count": null,
   "id": "3709cfdf",
   "metadata": {},
   "outputs": [],
   "source": []
  },
  {
   "cell_type": "code",
   "execution_count": 5,
   "id": "13679dbc",
   "metadata": {},
   "outputs": [
    {
     "name": "stdout",
     "output_type": "stream",
     "text": [
      "Requirement already satisfied: pymagnitude in /Users/zhangzhang/opt/anaconda3/envs/tensorflow/lib/python3.6/site-packages (0.1.143)\n",
      "Note: you may need to restart the kernel to use updated packages.\n"
     ]
    }
   ],
   "source": [
    "pip install pymagnitude"
   ]
  },
  {
   "cell_type": "code",
   "execution_count": 6,
   "id": "5c948f14",
   "metadata": {},
   "outputs": [
    {
     "name": "stdout",
     "output_type": "stream",
     "text": [
      "Requirement already satisfied: pymagnitude in /Users/zhangzhang/opt/anaconda3/envs/tensorflow/lib/python3.6/site-packages (0.1.143)\n",
      "Note: you may need to restart the kernel to use updated packages.\n"
     ]
    }
   ],
   "source": [
    "pip install pymagnitude"
   ]
  },
  {
   "cell_type": "code",
   "execution_count": 7,
   "id": "fedcfeeb",
   "metadata": {},
   "outputs": [],
   "source": [
    "from pymagnitude import  *\n",
    "\n",
    "file_path='GoogleNews-vectors-negative300.magnitude'\n",
    "vectors = Magnitude(file_path)"
   ]
  },
  {
   "cell_type": "code",
   "execution_count": 8,
   "id": "ca9b1c4b",
   "metadata": {},
   "outputs": [
    {
     "name": "stdout",
     "output_type": "stream",
     "text": [
      "300\n"
     ]
    }
   ],
   "source": [
    "#1.What is the dimensionality of these word embeddings? Provide an integer answer\n",
    "#answer:300\n",
    "\n",
    "print(vectors.emb_dim)"
   ]
  },
  {
   "cell_type": "code",
   "execution_count": 9,
   "id": "d95a001b",
   "metadata": {},
   "outputs": [
    {
     "name": "stdout",
     "output_type": "stream",
     "text": [
      "[('picnics', 0.7400875), ('picnic_lunch', 0.72137403), ('Picnic', 0.700534), ('potluck_picnic', 0.66832733), ('picnic_supper', 0.65189123)]\n"
     ]
    }
   ],
   "source": [
    "#2.What are the top-5 most similar words to picnic (not including picnic itself)?\n",
    "#answer:[('picnics', 0.7400875), ('picnic_lunch', 0.7213739), ('Picnic', 0.7005339), ('potluck_picnic', 0.66832733), ('picnic_supper', 0.6518913)]\n",
    "\n",
    "print(vectors.most_similar(\"picnic\", topn = 5))\n"
   ]
  },
  {
   "cell_type": "code",
   "execution_count": 10,
   "id": "7c9e9056",
   "metadata": {},
   "outputs": [
    {
     "name": "stdout",
     "output_type": "stream",
     "text": [
      "tissue\n"
     ]
    }
   ],
   "source": [
    "#3.According to the word embeddings, which of these words is not like the others? ['tissue', 'papyrus', 'manila', 'newsprint', 'parchment', 'gazette']\n",
    "\n",
    "#answer:'tissue'\n",
    "\n",
    "array =  ['tissue', 'papyrus', 'manila', 'newsprint', 'parchment', 'gazette']\n",
    "print(vectors.doesnt_match(array))"
   ]
  },
  {
   "cell_type": "code",
   "execution_count": 11,
   "id": "8a38e05e",
   "metadata": {},
   "outputs": [
    {
     "name": "stdout",
     "output_type": "stream",
     "text": [
      "[('forearm', 0.48294654), ('shin', 0.47376168), ('elbow', 0.46796894), ('metacarpal_bone', 0.46781474), ('metacarpal_bones', 0.46605822), ('ankle', 0.46434426), ('shoulder', 0.46183357), ('thigh', 0.45393687), ('knee', 0.44557065), ('ulna_bone', 0.4423491)]\n"
     ]
    }
   ],
   "source": [
    "#4.Solve the following analogy: leg is to jump as X is to throw.\n",
    "#answer: X is the forearm\n",
    "\n",
    "res = vectors.most_similar(positive = [\"throw\",\"leg\"], negative = [\"jump\"])\n",
    "print(res)"
   ]
  },
  {
   "cell_type": "code",
   "execution_count": null,
   "id": "0fe277fe",
   "metadata": {},
   "outputs": [],
   "source": []
  }
 ],
 "metadata": {
  "kernelspec": {
   "display_name": "Python 3",
   "language": "python",
   "name": "python3"
  },
  "language_info": {
   "codemirror_mode": {
    "name": "ipython",
    "version": 3
   },
   "file_extension": ".py",
   "mimetype": "text/x-python",
   "name": "python",
   "nbconvert_exporter": "python",
   "pygments_lexer": "ipython3",
   "version": "3.6.13"
  }
 },
 "nbformat": 4,
 "nbformat_minor": 5
}
