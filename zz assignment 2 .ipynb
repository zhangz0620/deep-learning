{
 "cells": [
  {
   "cell_type": "code",
   "execution_count": 1,
   "id": "9a05d0d2",
   "metadata": {},
   "outputs": [],
   "source": [
    "import torch\n",
    "import torchvision\n",
    "import torchvision.transforms as transforms\n",
    "import matplotlib.pyplot as plt\n",
    "import numpy as np\n",
    "import torch.nn as nn\n",
    "import torch.nn.functional as F\n",
    "import warnings\n",
    "warnings.filterwarnings('ignore')"
   ]
  },
  {
   "cell_type": "code",
   "execution_count": 2,
   "id": "ebbd9d98",
   "metadata": {},
   "outputs": [
    {
     "name": "stdout",
     "output_type": "stream",
     "text": [
      "Files already downloaded and verified\n",
      "Files already downloaded and verified\n"
     ]
    }
   ],
   "source": [
    "transform = transforms.Compose(\n",
    "    [transforms.ToTensor(),\n",
    "     transforms.Normalize((0.5, 0.5, 0.5), (0.5, 0.5, 0.5))])\n",
    "\n",
    "batch_size = 4\n",
    "\n",
    "trainset = torchvision.datasets.CIFAR10(root='./data', train=True,\n",
    "                                        download=True, transform=transform)\n",
    "trainloader = torch.utils.data.DataLoader(trainset, batch_size=batch_size,\n",
    "                                          shuffle=True, num_workers=2)\n",
    "\n",
    "testset = torchvision.datasets.CIFAR10(root='./data', train=False,\n",
    "                                       download=True, transform=transform)\n",
    "testloader = torch.utils.data.DataLoader(testset, batch_size=batch_size,\n",
    "                                         shuffle=False, num_workers=2)\n",
    "\n",
    "classes = ('plane', 'car', 'bird', 'cat',\n",
    "           'deer', 'dog', 'frog', 'horse', 'ship', 'truck')"
   ]
  },
  {
   "cell_type": "code",
   "execution_count": 3,
   "id": "db7b5fb7",
   "metadata": {},
   "outputs": [],
   "source": [
    "class CNNNet(nn.Module):\n",
    "    def __init__(self):\n",
    "        super().__init__()\n",
    "        self.conv1 = nn.Conv2d(3, 6, 5)\n",
    "        self.pool = nn.MaxPool2d(2, 2)\n",
    "        self.conv2 = nn.Conv2d(6, 16, 5)\n",
    "        self.fc1 = nn.Linear(16 * 5 * 5, 120)\n",
    "        self.fc2 = nn.Linear(120, 84)\n",
    "        self.fc3 = nn.Linear(84, 10)\n",
    "\n",
    "    def forward(self, x):\n",
    "        x = self.pool(F.relu(self.conv1(x)))\n",
    "        x = self.pool(F.relu(self.conv2(x)))\n",
    "        x = torch.flatten(x, 1) # flatten all dimensions except batch\n",
    "        x = F.relu(self.fc1(x))\n",
    "        x = F.relu(self.fc2(x))\n",
    "        x = self.fc3(x)\n",
    "        return x\n",
    "\n",
    "cnn_net = CNNNet()"
   ]
  },
  {
   "cell_type": "code",
   "execution_count": 4,
   "id": "df29cea5",
   "metadata": {},
   "outputs": [],
   "source": [
    "class DNet(nn.Module):\n",
    "    def __init__(self):\n",
    "        super().__init__()\n",
    "        self.conv1 = nn.Conv2d(3, 6, 5)\n",
    "        self.pool = nn.MaxPool2d(2, 2)\n",
    "        self.conv2 = nn.Conv2d(6, 16, 5)\n",
    "        self.fc1 = nn.Linear(16 * 5 * 5, 120)\n",
    "        self.fc2 = nn.Linear(120, 84)\n",
    "        self.fc3 = nn.Linear(84, 10)\n",
    "\n",
    "    def forward(self, x):\n",
    "        x = self.pool(F.relu(self.conv1(x)))\n",
    "        x = self.pool(F.relu(self.conv2(x)))\n",
    "        x = torch.flatten(x, 1) # flatten all dimensions except batch\n",
    "        x = F.relu(self.fc1(x))\n",
    "        x = F.dropout(x,p=0.5) \n",
    "        x = F.relu(self.fc2(x))\n",
    "        x = F.dropout(x,p=0.5) \n",
    "        x = self.fc3(x)\n",
    "        return x\n",
    "\n",
    "dnet = DNet()"
   ]
  },
  {
   "cell_type": "code",
   "execution_count": 5,
   "id": "9705fc33",
   "metadata": {},
   "outputs": [],
   "source": [
    "class SNet(nn.Module):\n",
    "    def __init__(self):\n",
    "        super().__init__()\n",
    "        self.conv1 = nn.Conv2d(3, 6, 5)\n",
    "        self.pool = nn.MaxPool2d(2, 2)\n",
    "        self.conv2 = nn.Conv2d(6, 16, 5)\n",
    "        self.fc1 = nn.Linear(16 * 5 * 5, 120)\n",
    "        self.fc2 = nn.Linear(120, 84)\n",
    "        self.fc3 = nn.Linear(84, 10)\n",
    "\n",
    "    def forward(self, x):\n",
    "        x = self.pool(F.sigmoid(self.conv1(x)))\n",
    "        x = self.pool(F.sigmoid(self.conv2(x)))\n",
    "        x = torch.flatten(x, 1) # flatten all dimensions except batch\n",
    "        x = F.sigmoid(self.fc1(x))\n",
    "        x = F.sigmoid(self.fc2(x))\n",
    "        x = self.fc3(x)\n",
    "        return x\n",
    "\n",
    "snet = SNet()"
   ]
  },
  {
   "cell_type": "code",
   "execution_count": 6,
   "id": "3f2635e4",
   "metadata": {},
   "outputs": [],
   "source": [
    "class DNN(nn.Module):\n",
    "    def __init__(self,num):\n",
    "        super().__init__()\n",
    "        self.num = num\n",
    "        self.layers=[]\n",
    "        self.f1 = nn.Linear(3072,512)\n",
    "        for i in range(self.num):\n",
    "            self.layers.append(nn.Linear(512,512))\n",
    "        self.f2 = nn.Linear(512,10)\n",
    "        \n",
    "    def forward(self, x):\n",
    "        x = x.view(-1,3072) # Flattern the (n,3,32,32) to (n,3072)\n",
    "        x = F.relu(self.f1(x))\n",
    "        for i in range(self.num):\n",
    "            x = F.relu(self.layers[i](x))\n",
    "        x = F.dropout(x,p=0.5) \n",
    "        x = self.f2(x)\n",
    "        return x "
   ]
  },
  {
   "cell_type": "code",
   "execution_count": 7,
   "id": "b218c214",
   "metadata": {},
   "outputs": [],
   "source": [
    "def acc_caculate(model,dataloader):\n",
    "    correct = 0\n",
    "    total = 0\n",
    "    # since we're not training, we don't need to calculate the gradients for our outputs\n",
    "    with torch.no_grad():\n",
    "        for data in dataloader:\n",
    "            images, labels = data\n",
    "            # calculate outputs by running images through the network\n",
    "            outputs = model(images)\n",
    "            # the class with the highest energy is what we choose as prediction\n",
    "            _, predicted = torch.max(outputs.data, 1)\n",
    "            total += labels.size(0)\n",
    "            correct += (predicted == labels).sum().item()\n",
    "    print(f'Accuracy is: {100 * correct // total} %')\n",
    "    return float(correct)/float(total)"
   ]
  },
  {
   "cell_type": "code",
   "execution_count": 8,
   "id": "f66e9da8",
   "metadata": {},
   "outputs": [],
   "source": [
    "import torch.optim as optim\n",
    "def train_model(model,trainloader,testloader,iteration=10):\n",
    "    train_acc=[]\n",
    "    test_acc=[]\n",
    "    criterion = nn.CrossEntropyLoss()\n",
    "    optimizer = optim.SGD(model.parameters(), lr=0.001, momentum=0.9)\n",
    "    for epoch in range(iteration):  # loop over the dataset multiple times\n",
    "        running_loss = 0.0\n",
    "        for i, data in enumerate(trainloader, 0):\n",
    "            # get the inputs; data is a list of [inputs, labels]\n",
    "            inputs, labels = data\n",
    "\n",
    "            # zero the parameter gradients\n",
    "            optimizer.zero_grad()\n",
    "\n",
    "            # forward + backward + optimize\n",
    "            outputs = model(inputs)\n",
    "            loss = criterion(outputs, labels)\n",
    "            loss.backward()\n",
    "            optimizer.step()        \n",
    "\n",
    "            # print statistics\n",
    "            running_loss += loss.item()\n",
    "            #if i % 2000 == 1999:    # print every 2000 mini-batches\n",
    "                #print(f'[{epoch + 1}, {i + 1:5d}] loss: {running_loss / 2000:.3f}')\n",
    "                #running_loss = 0.0\n",
    "        train_acc.append(acc_caculate(model,trainloader))\n",
    "        test_acc.append(acc_caculate(model,testloader))\n",
    "\n",
    "    print('Finished Training')\n",
    "    return model,train_acc,test_acc"
   ]
  },
  {
   "cell_type": "code",
   "execution_count": 9,
   "id": "2f2c7d0f",
   "metadata": {},
   "outputs": [
    {
     "name": "stdout",
     "output_type": "stream",
     "text": [
      "Accuracy is: 48 %\n",
      "Accuracy is: 47 %\n",
      "Accuracy is: 56 %\n",
      "Accuracy is: 55 %\n",
      "Accuracy is: 61 %\n",
      "Accuracy is: 58 %\n",
      "Accuracy is: 64 %\n",
      "Accuracy is: 59 %\n",
      "Accuracy is: 66 %\n",
      "Accuracy is: 60 %\n",
      "Accuracy is: 68 %\n",
      "Accuracy is: 61 %\n",
      "Accuracy is: 69 %\n",
      "Accuracy is: 62 %\n",
      "Accuracy is: 69 %\n",
      "Accuracy is: 60 %\n",
      "Accuracy is: 68 %\n",
      "Accuracy is: 58 %\n",
      "Accuracy is: 73 %\n",
      "Accuracy is: 62 %\n",
      "Finished Training\n"
     ]
    }
   ],
   "source": [
    "cnn_net_trained, train_acc_cnn_net, test_acc_cnn_net = train_model(cnn_net,trainloader,testloader,10)"
   ]
  },
  {
   "cell_type": "code",
   "execution_count": 10,
   "id": "b22923c8",
   "metadata": {},
   "outputs": [
    {
     "name": "stdout",
     "output_type": "stream",
     "text": [
      "Accuracy is: 37 %\n",
      "Accuracy is: 38 %\n",
      "Accuracy is: 44 %\n",
      "Accuracy is: 44 %\n",
      "Accuracy is: 49 %\n",
      "Accuracy is: 48 %\n",
      "Accuracy is: 50 %\n",
      "Accuracy is: 49 %\n",
      "Accuracy is: 51 %\n",
      "Accuracy is: 50 %\n",
      "Accuracy is: 52 %\n",
      "Accuracy is: 50 %\n",
      "Accuracy is: 54 %\n",
      "Accuracy is: 51 %\n",
      "Accuracy is: 54 %\n",
      "Accuracy is: 51 %\n",
      "Accuracy is: 55 %\n",
      "Accuracy is: 53 %\n",
      "Accuracy is: 54 %\n",
      "Accuracy is: 51 %\n",
      "Finished Training\n"
     ]
    }
   ],
   "source": [
    "dnet_trained, train_acc_dnet, test_acc_dnet = train_model(dnet,trainloader,testloader,10)"
   ]
  },
  {
   "cell_type": "code",
   "execution_count": 11,
   "id": "f9e94e47",
   "metadata": {},
   "outputs": [
    {
     "name": "stdout",
     "output_type": "stream",
     "text": [
      "Accuracy is: 10 %\n",
      "Accuracy is: 10 %\n",
      "Accuracy is: 10 %\n",
      "Accuracy is: 10 %\n",
      "Accuracy is: 10 %\n",
      "Accuracy is: 10 %\n",
      "Accuracy is: 10 %\n",
      "Accuracy is: 10 %\n",
      "Accuracy is: 10 %\n",
      "Accuracy is: 10 %\n",
      "Accuracy is: 10 %\n",
      "Accuracy is: 10 %\n",
      "Accuracy is: 10 %\n",
      "Accuracy is: 10 %\n",
      "Accuracy is: 10 %\n",
      "Accuracy is: 10 %\n",
      "Accuracy is: 13 %\n",
      "Accuracy is: 14 %\n",
      "Accuracy is: 19 %\n",
      "Accuracy is: 19 %\n",
      "Finished Training\n"
     ]
    }
   ],
   "source": [
    "snet_trained, train_acc_snet, test_acc_snet = train_model(snet,trainloader,testloader,10)"
   ]
  },
  {
   "cell_type": "code",
   "execution_count": 12,
   "id": "767bea25",
   "metadata": {},
   "outputs": [
    {
     "name": "stdout",
     "output_type": "stream",
     "text": [
      "Accuracy is: 37 %\n",
      "Accuracy is: 36 %\n",
      "Accuracy is: 39 %\n",
      "Accuracy is: 38 %\n",
      "Accuracy is: 43 %\n",
      "Accuracy is: 41 %\n",
      "Accuracy is: 42 %\n",
      "Accuracy is: 40 %\n",
      "Accuracy is: 44 %\n",
      "Accuracy is: 42 %\n",
      "Accuracy is: 46 %\n",
      "Accuracy is: 42 %\n",
      "Accuracy is: 46 %\n",
      "Accuracy is: 43 %\n",
      "Accuracy is: 46 %\n",
      "Accuracy is: 42 %\n",
      "Accuracy is: 46 %\n",
      "Accuracy is: 41 %\n",
      "Accuracy is: 47 %\n",
      "Accuracy is: 42 %\n",
      "Finished Training\n"
     ]
    }
   ],
   "source": [
    "dnn_0 = DNN(0)\n",
    "dnn_0_trained, train_acc_dnn_0, test_acc_dnn_0 = train_model(dnn_0,trainloader,testloader,10)"
   ]
  },
  {
   "cell_type": "code",
   "execution_count": 13,
   "id": "afd47da2",
   "metadata": {},
   "outputs": [
    {
     "name": "stdout",
     "output_type": "stream",
     "text": [
      "Accuracy is: 43 %\n",
      "Accuracy is: 42 %\n",
      "Accuracy is: 46 %\n",
      "Accuracy is: 44 %\n",
      "Accuracy is: 48 %\n",
      "Accuracy is: 44 %\n",
      "Accuracy is: 51 %\n",
      "Accuracy is: 46 %\n",
      "Accuracy is: 52 %\n",
      "Accuracy is: 47 %\n",
      "Accuracy is: 53 %\n",
      "Accuracy is: 47 %\n",
      "Accuracy is: 54 %\n",
      "Accuracy is: 47 %\n",
      "Accuracy is: 55 %\n",
      "Accuracy is: 48 %\n",
      "Accuracy is: 56 %\n",
      "Accuracy is: 48 %\n",
      "Accuracy is: 56 %\n",
      "Accuracy is: 49 %\n",
      "Finished Training\n"
     ]
    }
   ],
   "source": [
    "dnn_1 = DNN(1)\n",
    "dnn_1_trained, train_acc_dnn_1, test_acc_dnn_1 = train_model(dnn_1,trainloader,testloader,10)"
   ]
  },
  {
   "cell_type": "code",
   "execution_count": 14,
   "id": "6de544b0",
   "metadata": {},
   "outputs": [
    {
     "name": "stdout",
     "output_type": "stream",
     "text": [
      "Accuracy is: 42 %\n",
      "Accuracy is: 42 %\n",
      "Accuracy is: 47 %\n",
      "Accuracy is: 45 %\n",
      "Accuracy is: 49 %\n",
      "Accuracy is: 47 %\n",
      "Accuracy is: 52 %\n",
      "Accuracy is: 47 %\n",
      "Accuracy is: 54 %\n",
      "Accuracy is: 49 %\n",
      "Accuracy is: 55 %\n",
      "Accuracy is: 49 %\n",
      "Accuracy is: 56 %\n",
      "Accuracy is: 49 %\n",
      "Accuracy is: 56 %\n",
      "Accuracy is: 49 %\n",
      "Accuracy is: 58 %\n",
      "Accuracy is: 50 %\n",
      "Accuracy is: 60 %\n",
      "Accuracy is: 50 %\n",
      "Finished Training\n"
     ]
    }
   ],
   "source": [
    "dnn_2 = DNN(2)\n",
    "dnn_2_trained, train_acc_dnn_2, test_acc_dnn_2 = train_model(dnn_2,trainloader,testloader,10)"
   ]
  },
  {
   "cell_type": "code",
   "execution_count": 15,
   "id": "9c71aaa6",
   "metadata": {},
   "outputs": [
    {
     "name": "stdout",
     "output_type": "stream",
     "text": [
      "Accuracy is: 36 %\n",
      "Accuracy is: 36 %\n",
      "Accuracy is: 43 %\n",
      "Accuracy is: 43 %\n",
      "Accuracy is: 46 %\n",
      "Accuracy is: 44 %\n",
      "Accuracy is: 48 %\n",
      "Accuracy is: 46 %\n",
      "Accuracy is: 50 %\n",
      "Accuracy is: 47 %\n",
      "Accuracy is: 52 %\n",
      "Accuracy is: 48 %\n",
      "Accuracy is: 53 %\n",
      "Accuracy is: 48 %\n",
      "Accuracy is: 54 %\n",
      "Accuracy is: 50 %\n",
      "Accuracy is: 56 %\n",
      "Accuracy is: 50 %\n",
      "Accuracy is: 57 %\n",
      "Accuracy is: 51 %\n",
      "Finished Training\n"
     ]
    }
   ],
   "source": [
    "dnn_3 = DNN(3)\n",
    "dnn_3_trained, train_acc_dnn_3, test_acc_dnn_3 = train_model(dnn_3,trainloader,testloader,10)"
   ]
  },
  {
   "cell_type": "code",
   "execution_count": 22,
   "id": "e6e85cb0",
   "metadata": {},
   "outputs": [
    {
     "name": "stdout",
     "output_type": "stream",
     "text": [
      "Accuracy is: 27 %\n",
      "Accuracy is: 27 %\n",
      "Accuracy is: 34 %\n",
      "Accuracy is: 34 %\n",
      "Accuracy is: 38 %\n",
      "Accuracy is: 38 %\n",
      "Accuracy is: 41 %\n",
      "Accuracy is: 41 %\n",
      "Accuracy is: 43 %\n",
      "Accuracy is: 43 %\n",
      "Accuracy is: 45 %\n",
      "Accuracy is: 44 %\n",
      "Accuracy is: 47 %\n",
      "Accuracy is: 45 %\n",
      "Accuracy is: 48 %\n",
      "Accuracy is: 46 %\n",
      "Accuracy is: 49 %\n",
      "Accuracy is: 46 %\n",
      "Accuracy is: 51 %\n",
      "Accuracy is: 47 %\n",
      "Finished Training\n"
     ]
    }
   ],
   "source": [
    "dnn_4 = DNN(4)\n",
    "dnn_4_trained, train_acc_dnn_4, test_acc_dnn_4 = train_model(dnn_4,trainloader,testloader,10)"
   ]
  },
  {
   "cell_type": "markdown",
   "id": "5473474b",
   "metadata": {},
   "source": [
    "(1)Compare the accuracy of the convolutional neural network in the file on the cifar10 dataset to the accuracy of simple dense neural networks with 0, 1, 2, 3 and 4 hidden layers of 512 rectified linear units each. Modify the code to obtain simple dense neural networks with 0, 1, 2, 3 and 4 hidden layers of 512 rectified linear units (with a dropout rate of 0.5). Produce a graph that contains 6 curves (one for the convolutional neural net and one for each dense neural net of 0-4 hidden layers). The y-axis is the test (validation) accuracy and the x-axis is the number of epochs (# of passes through the training set). Produce curves for the first 10 epochs. Although 10 epochs is not sufficient to reach convergence, it is sufficient to see the trend. Explain the results (i.e., why some models perform better or worse than other models)."
   ]
  },
  {
   "cell_type": "code",
   "execution_count": 23,
   "id": "3b50e985",
   "metadata": {},
   "outputs": [
    {
     "data": {
      "image/png": "[encoded data removed]",
      "text/plain": [
       "<Figure size 432x288 with 1 Axes>"
      ]
     },
     "metadata": {
      "needs_background": "light"
     },
     "output_type": "display_data"
    }
   ],
   "source": [
    "ax = plt.gca() \n",
    "x = [1,2,3,4,5,6,7,8,9,10]\n",
    "plt.plot(x,test_acc_cnn_net) \n",
    "plt.plot(x,test_acc_dnn_0) \n",
    "plt.plot(x,test_acc_dnn_1)\n",
    "plt.plot(x,test_acc_dnn_2)\n",
    "plt.plot(x,test_acc_dnn_3)\n",
    "plt.plot(x,test_acc_dnn_4)\n",
    "plt.xlabel('x')\n",
    "plt.ylabel('test-acc')\n",
    "plt.legend(['cnn','dnn-0','dnn-1','dnn-2','dnn-3','dnn-4'])\n",
    "plt.savefig('1.png')\n",
    "plt.show()"
   ]
  },
  {
   "cell_type": "markdown",
   "id": "e572926f",
   "metadata": {},
   "source": [
    "(2)Compare the accuracy achieved by rectified linear units and sigmoid units in the convolutional neural network in the code. Modify the code to use sigmoid units. Produce a graph that contains 2 curves (one for rectified linear units and another one for sigmoid units). The y-axis is the test (validation) accuracy and the x-axis is the number of epochs (# of passes through the training set). Produce curves for the first 10 epochs. Although 10 epochs is not sufficient to reach convergence, it is sufficient to see the trend. Explain the results (i.e., why did one model perform better than the other model)."
   ]
  },
  {
   "cell_type": "code",
   "execution_count": 17,
   "id": "54721349",
   "metadata": {},
   "outputs": [
    {
     "data": {
      "image/png": "[encoded data removed]",
      "text/plain": [
       "<Figure size 432x288 with 1 Axes>"
      ]
     },
     "metadata": {
      "needs_background": "light"
     },
     "output_type": "display_data"
    }
   ],
   "source": [
    "ax = plt.gca() \n",
    "x = [1,2,3,4,5,6,7,8,9,10]\n",
    "plt.plot(x,test_acc_cnn_net) \n",
    "plt.plot(x,test_acc_snet) \n",
    "plt.xlabel('x')\n",
    "plt.ylabel('test-acc')\n",
    "plt.legend(['cnn','snet'])\n",
    "plt.savefig('2.png')\n",
    "plt.show()"
   ]
  },
  {
   "cell_type": "markdown",
   "id": "4ac8e378",
   "metadata": {},
   "source": [
    "(3)Compare the accuracy achieved with and without drop out as well as with and without data augmentation in the convolutional neural network in the code. Modify the code in to turn on and off dropout as well as data augmentation. Produce two graphs (one for training accuracy and the other one for test accuracy) that each contain 4 curves (with and without dropout as well as with and without data augmentation). The y-axis is the accuracy (i.e., train or test/validation accuracy) and the x- axis is the number of epochs (# of passes through the training set). Produce curves for as many epochs as you can up to 100 epochs. Explain the results (i.e., why did some models perform better or worse than other models and are the results consistent with the theory). No marks will be deducted for doing less than 100 epochs, however make sure to explain what you expect to see in the curves as the number of epochs reaches 100."
   ]
  },
  {
   "cell_type": "code",
   "execution_count": 18,
   "id": "e33a0f0c",
   "metadata": {},
   "outputs": [
    {
     "data": {
      "image/png": "[encoded data removed]",
      "text/plain": [
       "<Figure size 432x288 with 1 Axes>"
      ]
     },
     "metadata": {
      "needs_background": "light"
     },
     "output_type": "display_data"
    }
   ],
   "source": [
    "ax = plt.gca() \n",
    "x = [1,2,3,4,5,6,7,8,9,10]\n",
    "plt.plot(x,test_acc_cnn_net) \n",
    "plt.plot(x,test_acc_dnet) \n",
    "plt.xlabel('x')\n",
    "plt.ylabel('test-acc')\n",
    "plt.legend(['cnn','dnet'])\n",
    "plt.savefig('3.png')\n",
    "plt.show()"
   ]
  },
  {
   "cell_type": "code",
   "execution_count": 19,
   "id": "33649b0c",
   "metadata": {},
   "outputs": [
    {
     "name": "stdout",
     "output_type": "stream",
     "text": [
      "Files already downloaded and verified\n",
      "Files already downloaded and verified\n"
     ]
    }
   ],
   "source": [
    "transform = transforms.Compose(\n",
    "    [transforms.ToTensor(),\n",
    "     transforms.RandomHorizontalFlip(p=0.5),  # 水平翻转\n",
    "     transforms.RandomGrayscale(p=0.5),  # 随机灰度\n",
    "     transforms.Normalize((0.5, 0.5, 0.5), (0.5, 0.5, 0.5))])\n",
    "\n",
    "batch_size = 4\n",
    "\n",
    "trainset = torchvision.datasets.CIFAR10(root='./data', train=True,\n",
    "                                        download=True, transform=transform)\n",
    "trainloader_aug = torch.utils.data.DataLoader(trainset, batch_size=batch_size,\n",
    "                                          shuffle=True, num_workers=2)\n",
    "\n",
    "testset = torchvision.datasets.CIFAR10(root='./data', train=False,\n",
    "                                       download=True, transform=transform)\n",
    "testloader_aug = torch.utils.data.DataLoader(testset, batch_size=batch_size,\n",
    "                                         shuffle=False, num_workers=2)"
   ]
  },
  {
   "cell_type": "code",
   "execution_count": 20,
   "id": "d128d28e",
   "metadata": {},
   "outputs": [
    {
     "name": "stdout",
     "output_type": "stream",
     "text": [
      "Accuracy is: 64 %\n",
      "Accuracy is: 60 %\n",
      "Accuracy is: 66 %\n",
      "Accuracy is: 61 %\n",
      "Accuracy is: 66 %\n",
      "Accuracy is: 62 %\n",
      "Accuracy is: 68 %\n",
      "Accuracy is: 63 %\n",
      "Accuracy is: 68 %\n",
      "Accuracy is: 63 %\n",
      "Accuracy is: 66 %\n",
      "Accuracy is: 61 %\n",
      "Accuracy is: 69 %\n",
      "Accuracy is: 63 %\n",
      "Accuracy is: 68 %\n",
      "Accuracy is: 63 %\n",
      "Accuracy is: 66 %\n",
      "Accuracy is: 61 %\n",
      "Accuracy is: 69 %\n",
      "Accuracy is: 63 %\n",
      "Finished Training\n"
     ]
    }
   ],
   "source": [
    "cnn_net_trained__aug, train_acc_cnn_net_aug, test_acc_cnn_net__aug = train_model(cnn_net,trainloader_aug,testloader_aug,10)"
   ]
  },
  {
   "cell_type": "code",
   "execution_count": 21,
   "id": "cbdec608",
   "metadata": {},
   "outputs": [
    {
     "data": {
      "image/png": "[encoded data removed]",
      "text/plain": [
       "<Figure size 432x288 with 1 Axes>"
      ]
     },
     "metadata": {
      "needs_background": "light"
     },
     "output_type": "display_data"
    }
   ],
   "source": [
    "ax = plt.gca() \n",
    "x = [1,2,3,4,5,6,7,8,9,10]\n",
    "plt.plot(x,test_acc_cnn_net) \n",
    "plt.plot(x,test_acc_cnn_net__aug) \n",
    "plt.xlabel('x')\n",
    "plt.ylabel('test-acc')\n",
    "plt.legend(['cnn','cnn-aug'])\n",
    "plt.savefig('4.png')\n",
    "plt.show()"
   ]
  },
  {
   "cell_type": "code",
   "execution_count": null,
   "id": "f6bc7404",
   "metadata": {},
   "outputs": [],
   "source": []
  },
  {
   "cell_type": "code",
   "execution_count": null,
   "id": "03bb3431",
   "metadata": {},
   "outputs": [],
   "source": []
  },
  {
   "cell_type": "code",
   "execution_count": null,
   "id": "49350b80",
   "metadata": {},
   "outputs": [],
   "source": []
  }
 ],
 "metadata": {
  "kernelspec": {
   "display_name": "Python 3 (ipykernel)",
   "language": "python",
   "name": "python3"
  },
  "language_info": {
   "codemirror_mode": {
    "name": "ipython",
    "version": 3
   },
   "file_extension": ".py",
   "mimetype": "text/x-python",
   "name": "python",
   "nbconvert_exporter": "python",
   "pygments_lexer": "ipython3",
   "version": "3.9.7"
  }
 },
 "nbformat": 4,
 "nbformat_minor": 5
}
